{
  "nbformat": 4,
  "nbformat_minor": 0,
  "metadata": {
    "colab": {
      "private_outputs": true,
      "provenance": [],
      "gpuType": "T4",
      "cell_execution_strategy": "setup"
    },
    "kernelspec": {
      "name": "python3",
      "display_name": "Python 3"
    },
    "language_info": {
      "name": "python"
    },
    "accelerator": "GPU"
  },
  "cells": [
    {
      "cell_type": "code",
      "source": [
        "!pip install geemap\n",
        "!pip install earthengine-api\n",
        "!pip install ee"
      ],
      "metadata": {
        "id": "VKL_NsxaxF0k"
      },
      "execution_count": null,
      "outputs": []
    },
    {
      "cell_type": "code",
      "source": [
        "!pip install ee"
      ],
      "metadata": {
        "id": "EQtt9hIpcxLI"
      },
      "execution_count": null,
      "outputs": []
    },
    {
      "cell_type": "code",
      "source": [
        "from io import StringIO"
      ],
      "metadata": {
        "id": "o2jLT44Gbdwx"
      },
      "execution_count": null,
      "outputs": []
    },
    {
      "cell_type": "code",
      "source": [
        "!pip install ee"
      ],
      "metadata": {
        "id": "Q8v6WxFIcM0l"
      },
      "execution_count": null,
      "outputs": []
    },
    {
      "cell_type": "code",
      "source": [
        "from io import StringIO\n",
        "import ee\n",
        "import geemap\n",
        "\n",
        "# Initialize Earth Engine\n",
        "ee.Initialize()\n",
        "\n",
        "# Function to mask edge artifacts in the SAR image\n",
        "def mask_edge(image):\n",
        "    edge = image.lt(-30.0)\n",
        "    masked_image = image.mask().And(edge.Not())\n",
        "    return image.updateMask(masked_image)\n",
        "\n",
        "# Load Sentinel-1 GRD Image Collection with VV polarization and mask edges\n",
        "img_vv = (\n",
        "    ee.ImageCollection('COPERNICUS/S1_GRD')\n",
        "    .filter(ee.Filter.listContains('transmitterReceiverPolarisation', 'VV'))\n",
        "    .filter(ee.Filter.eq('instrumentMode', 'IW'))\n",
        "    .select('VV')\n",
        "    .map(mask_edge)\n",
        ")\n",
        "\n",
        "# Get a sample of images to display\n",
        "sample_images = img_vv.limit(5)  # Limit to 5 images for visualization\n",
        "\n",
        "# Function to add images to the map\n",
        "def add_images_to_map(collection, map_obj, vis_params, label_prefix):\n",
        "    for image in collection.getInfo()['features']:\n",
        "        img = ee.Image(image['id'])\n",
        "        date = ee.Date(img.get('system:time_start')).format('YYYY-MM-dd').getInfo()\n",
        "        map_obj.addLayer(img, vis_params, f'{label_prefix} {date}')\n",
        "\n",
        "# Visualization parameters for Sentinel-1 VV images\n",
        "vis_params = {\n",
        "    'min': -30,\n",
        "    'max': 5,\n",
        "    'palette': ['black', 'blue', 'cyan', 'green', 'yellow', 'red']\n",
        "}\n",
        "\n",
        "# Initialize the map\n",
        "m = geemap.Map()\n",
        "m.set_center(5.2013, 47.3277, 12)\n",
        "\n",
        "# Add Sentinel-1 SAR images to the map\n",
        "add_images_to_map(sample_images, m, vis_params, 'Sentinel-1 VV')\n",
        "\n",
        "# Display the map\n",
        "m\n",
        "\n",
        "# Separate the descending and ascending orbit images\n",
        "desc = img_vv.filter(ee.Filter.eq('orbitProperties_pass', 'DESCENDING'))\n",
        "asc = img_vv.filter(ee.Filter.eq('orbitProperties_pass', 'ASCENDING'))\n",
        "\n",
        "# Define seasonal time ranges\n",
        "spring = ee.Filter.date('2015-03-01', '2015-04-20')\n",
        "late_spring = ee.Filter.date('2015-04-21', '2015-06-10')\n",
        "summer = ee.Filter.date('2015-06-11', '2015-08-31')\n",
        "\n",
        "# Compute mean images for each season and orbit\n",
        "desc_change = ee.Image.cat(\n",
        "    desc.filter(spring).mean(),\n",
        "    desc.filter(late_spring).mean(),\n",
        "    desc.filter(summer).mean(),\n",
        ")\n",
        "\n",
        "asc_change = ee.Image.cat(\n",
        "    asc.filter(spring).mean(),\n",
        "    asc.filter(late_spring).mean(),\n",
        "    asc.filter(summer).mean(),\n",
        ")\n",
        "\n",
        "# Calculate the change by differencing or ratio\n",
        "change_detection = asc_change.subtract(desc_change)  # Or use .divide()\n",
        "\n",
        "# Thresholding to detect significant changes (tunable by the user)\n",
        "threshold = change_detection.gt(ee.Image.constant(1.5))  # Example threshold\n",
        "\n",
        "# Integrating ancillary data (e.g., land cover, water bodies) to filter out natural changes\n",
        "# Example: Using Global Surface Water dataset to mask water-related changes\n",
        "water_mask = ee.Image(\"JRC/GSW1_3/GlobalSurfaceWater\").select('occurrence').gt(90)\n",
        "filtered_change = threshold.updateMask(water_mask.Not())  # Exclude water-related changes\n",
        "\n",
        "# Vectorize the detected man-made changes\n",
        "change_vector = filtered_change.addBands(change_detection).reduceToVectors(\n",
        "    geometryType='polygon',\n",
        "    reducer=ee.Reducer.countEvery(),\n",
        "    scale=10,\n",
        "    maxPixels=1e8\n",
        ")\n",
        "\n",
        "# Export the result to a GeoJSON or Shapefile\n",
        "task = ee.batch.Export.table.toDrive(\n",
        "    collection=change_vector,\n",
        "    description='man_made_changes',\n",
        "    fileFormat='GeoJSON'  # or 'SHP' for Shapefile\n",
        ")\n",
        "task.start()"
      ],
      "metadata": {
        "id": "n8YlWJD2a3cN"
      },
      "execution_count": null,
      "outputs": []
    }
  ]
}